{
 "cells": [
  {
   "cell_type": "code",
   "execution_count": 15,
   "id": "22b99d63",
   "metadata": {},
   "outputs": [],
   "source": [
    "import itertools as it\n",
    "from itertools import combinations_with_replacement as cwr\n",
    "from functools import lru_cache, reduce\n",
    "import numpy as np\n",
    "from math import gcd, comb\n",
    "\n",
    "!pip install -q selenium\n",
    "from selenium import webdriver\n",
    "from selenium.webdriver.common.by import By"
   ]
  },
  {
   "cell_type": "code",
   "execution_count": 3,
   "id": "b7ce03d0",
   "metadata": {},
   "outputs": [],
   "source": [
    "# this function is used in conjuction with the string conds while playing a game\n",
    "# given a = [x,y,z], it returns a vector over all possible boards of whether the value at\n",
    "#     position (x,y) is equal to z\n",
    "def add(a):\n",
    "    return sols[:,int(a[0]),int(a[1])] == int(a[2])"
   ]
  },
  {
   "cell_type": "code",
   "execution_count": 1,
   "id": "d33286c1",
   "metadata": {},
   "outputs": [],
   "source": [
    "# this class is used to represent all of the possible solutions for a row/col\n",
    "# it uses a trie to make membership checks easier to implement\n",
    "# it may not be too useful overall though\n",
    "class Group:\n",
    "    def __init__(self):\n",
    "        # a dict storing the actual trie structure\n",
    "        self.tree = {}\n",
    "        # a list of the strings stored in the trie\n",
    "        self.vals = []\n",
    "        \n",
    "    def __len__(self):\n",
    "        return len(self.vals)\n",
    "    \n",
    "    def __iter__(self):\n",
    "        return iter(self.vals)\n",
    "    \n",
    "    def __getitem__(self, index):\n",
    "        return self.vals[index]\n",
    "    \n",
    "#     def __delitem__(self, index=None, arr=None):\n",
    "#         if index:\n",
    "#             arr = self[index]\n",
    "        \n",
    "#         if arr not in self:\n",
    "#             print(f'{arr} not here')\n",
    "#             return\n",
    "        \n",
    "#         arr = tuple(arr)\n",
    "        \n",
    "#         del \n",
    "        \n",
    "#         s = self.tree\n",
    "#         for a in arr[:-1]:\n",
    "#             s = s[a]\n",
    "#         del s[arr[-1]]\n",
    "        \n",
    "        \n",
    "    def __contains__(self, arr):\n",
    "        s = self.tree\n",
    "        for a in arr:\n",
    "            if not s or a not in s:\n",
    "                return False\n",
    "            s = s[a]\n",
    "#         return 'END' in s\n",
    "        return True\n",
    "    \n",
    "    def add(self, arr):\n",
    "        if arr in self:\n",
    "            return\n",
    "        self.vals.append(tuple(arr))\n",
    "        s = self.tree\n",
    "        for a in arr:\n",
    "            if a not in s:\n",
    "                s[a] = {}\n",
    "            s = s[a]\n",
    "#         s['END'] = True\n",
    "        \n",
    "    def __str__(self):\n",
    "        return '\\n'.join(map(str,self.vals))"
   ]
  },
  {
   "cell_type": "code",
   "execution_count": 5,
   "id": "92ce843d",
   "metadata": {},
   "outputs": [],
   "source": [
    "# this function takes in a, the sum of the values in a line, and b, the # of voltorbs in the line\n",
    "#     and returns a Group of all of the arrangements that satisfy those conditions\n",
    "# dont remember why the cache has a maxsize\n",
    "@lru_cache(maxsize=36)\n",
    "def getPossLines(a,b):\n",
    "    g = Group()\n",
    "    \n",
    "    # special case for when theres only voltorbs\n",
    "    if a == 0:\n",
    "        g.add([0]*5)\n",
    "#     elif a > 2*(5-b):\n",
    "#         h = getPossLines(4*(5-b) - a, b)\n",
    "#         for line in h:\n",
    "#             g.add([(4-v)%4 for v in line])\n",
    "    else:\n",
    "        # this should be based on stars and bars\n",
    "        # i believe it first decides where the voltorbs go\n",
    "        #     and then fills in the rest of the values in between them\n",
    "        zero_pos = [*cwr(range(5-b+1), b)]\n",
    "        for i in cwr(range(a+b-5+1), 5-b-1):\n",
    "            dd = np.diff([0, *i, a+b-5])\n",
    "            if (dd > 2).any():\n",
    "                continue\n",
    "            dd += 1\n",
    "            for j in zero_pos:\n",
    "                g.add(np.insert(dd, j, 0))\n",
    "    \n",
    "    return g"
   ]
  },
  {
   "cell_type": "code",
   "execution_count": 9,
   "id": "0f5d2b6c",
   "metadata": {
    "scrolled": false
   },
   "outputs": [],
   "source": [
    "# recursive function to find all possible solutions from the possible row and col options\n",
    "def rec(i=0):\n",
    "    if i == 4: #once we get to the last row\n",
    "        # the last row is uniquely determined by the previous 4 since the sums need to match the total\n",
    "        # this means we can calculate it directly\n",
    "        brd[i] = cols[:,0] - brd[:i,:].sum(axis=0)\n",
    "        \n",
    "        # check if the calculated last row is possible and if each column has the right number of voltorbs\n",
    "        if brd[i] in possRows[i] and ((brd == 0).sum(axis=0) == cols[:,1]).all():\n",
    "            sols.append(np.copy(brd))\n",
    "            print(len(sols), end='\\r')\n",
    "    else:\n",
    "        if i:\n",
    "            # only need to do this check when i > 0 since a blank board will always pass\n",
    "            # for each column, check if the current prefix determined by the selected rows is valid\n",
    "            #     if its not valid, then return and backtrack\n",
    "            for j in range(5):\n",
    "                if brd[:i,j] not in possCols[j]:\n",
    "                    return\n",
    "\n",
    "        # try each option for the current row\n",
    "        for row in possRows[i]:\n",
    "            brd[i] = row\n",
    "            rec(i+1)\n",
    "\n",
    "# with open(\"vflip.in\") as f:\n",
    "#     R = C = 5\n",
    "\n",
    "#     rows = np.array([[*map(int, f.readline().split())] for _ in range(R)])\n",
    "#     cols = np.array([[*map(int, f.readline().split())] for _ in range(C)])\n",
    "\n",
    "path = '/Users/ssbhatt/Downloads/chromedriver'\n",
    "# driver = webdriver.Chrome(executable_path=path)\n",
    "driver = webdriver.Chrome()\n",
    "driver.get('https://voltorbflip.brandon-stein.com/')"
   ]
  },
  {
   "cell_type": "code",
   "execution_count": 16,
   "id": "6a1d3708",
   "metadata": {},
   "outputs": [
    {
     "ename": "TypeError",
     "evalue": "'WebElement' object is not iterable",
     "output_type": "error",
     "traceback": [
      "\u001b[0;31m---------------------------------------------------------------------------\u001b[0m",
      "\u001b[0;31mTypeError\u001b[0m                                 Traceback (most recent call last)",
      "Cell \u001b[0;32mIn[16], line 1\u001b[0m\n\u001b[0;32m----> 1\u001b[0m points \u001b[38;5;241m=\u001b[39m np\u001b[38;5;241m.\u001b[39marray([elem\u001b[38;5;241m.\u001b[39mtext \u001b[38;5;28;01mfor\u001b[39;00m elem \u001b[38;5;129;01min\u001b[39;00m driver\u001b[38;5;241m.\u001b[39mfind_element(by\u001b[38;5;241m=\u001b[39mBy\u001b[38;5;241m.\u001b[39mCSS_SELECTOR,value\u001b[38;5;241m=\u001b[39m\u001b[38;5;124m\"\u001b[39m\u001b[38;5;124mdiv[class*=\u001b[39m\u001b[38;5;124m'\u001b[39m\u001b[38;5;124mpoints\u001b[39m\u001b[38;5;124m'\u001b[39m\u001b[38;5;124m]\u001b[39m\u001b[38;5;124m\"\u001b[39m)], dtype\u001b[38;5;241m=\u001b[39m\u001b[38;5;28mint\u001b[39m)\n\u001b[1;32m      2\u001b[0m bombs \u001b[38;5;241m=\u001b[39m np\u001b[38;5;241m.\u001b[39marray([elem\u001b[38;5;241m.\u001b[39mtext \u001b[38;5;28;01mfor\u001b[39;00m elem \u001b[38;5;129;01min\u001b[39;00m driver\u001b[38;5;241m.\u001b[39mfind_element(by\u001b[38;5;241m=\u001b[39mBy\u001b[38;5;241m.\u001b[39mCSS_SELECTOR,value\u001b[38;5;241m=\u001b[39m\u001b[38;5;124m\"\u001b[39m\u001b[38;5;124mdiv[class*=\u001b[39m\u001b[38;5;124m'\u001b[39m\u001b[38;5;124mbombs\u001b[39m\u001b[38;5;124m'\u001b[39m\u001b[38;5;124m]\u001b[39m\u001b[38;5;124m\"\u001b[39m)], dtype\u001b[38;5;241m=\u001b[39m\u001b[38;5;28mint\u001b[39m)\n\u001b[1;32m      3\u001b[0m rows, cols \u001b[38;5;241m=\u001b[39m np\u001b[38;5;241m.\u001b[39mvsplit(np\u001b[38;5;241m.\u001b[39mcolumn_stack((points, bombs)), \u001b[38;5;241m2\u001b[39m)\n",
      "\u001b[0;31mTypeError\u001b[0m: 'WebElement' object is not iterable"
     ]
    }
   ],
   "source": [
    "points = np.array([elem.text for elem in driver.find_element(by=By.CSS_SELECTOR,value=\"div[class*='points']\")], dtype=int)\n",
    "bombs = np.array([elem.text for elem in driver.find_element(by=By.CSS_SELECTOR,value=\"div[class*='bombs']\")], dtype=int)\n",
    "rows, cols = np.vsplit(np.column_stack((points, bombs)), 2)\n",
    "\n",
    "print(rows)\n",
    "print(cols)\n",
    "\n",
    "brd = np.zeros((5,5), dtype=int)\n",
    "possRows = [getPossLines(*row) for row in rows]\n",
    "possCols = [getPossLines(*col) for col in cols]\n",
    "# for pr in possRows:\n",
    "#     print(pr)\n",
    "#     print()\n",
    "\n",
    "# find all the solutions\n",
    "sols = []\n",
    "%time rec()\n",
    "# print(sols)\n",
    "sols = np.stack(sols)\n",
    "print(sols.shape)\n",
    "\n",
    "# this is the actual answer scraped from the website for comparison purposes\n",
    "np.array(['0'+elem.text for elem in driver.find_elements_by_css_selector(\"div[class*='tile-module--front']\")],dtype=int).reshape((5,5))"
   ]
  },
  {
   "cell_type": "code",
   "execution_count": 6,
   "id": "4f383064",
   "metadata": {},
   "outputs": [],
   "source": [
    "driver.close()"
   ]
  },
  {
   "cell_type": "code",
   "execution_count": 79,
   "id": "3dcca4b2",
   "metadata": {},
   "outputs": [
    {
     "name": "stdout",
     "output_type": "stream",
     "text": [
      "(15, 5, 5)\n",
      "(0, 1) {0, 1, 3} 3 0.4666666666666667 0.4\n",
      "(0, 2) {0, 3} 3 0.5333333333333333 0.4666666666666667\n",
      "(0, 3) {1} 1  \n",
      "\n",
      "(1, 2) {2} 2  \n",
      "(1, 3) {1} 1  \n",
      "\n",
      "(2, 3) {1} 1  \n",
      "\n",
      "(3, 1) {0, 1, 3} 3 0.5333333333333333 0.4\n",
      "(3, 3) {1} 1  \n",
      "\n",
      "(4, 2) {3} 3  \n",
      "(4, 3) {1} 1  \n",
      "\n"
     ]
    },
    {
     "name": "stderr",
     "output_type": "stream",
     "text": [
      "<ipython-input-79-9e9394684f28>:48: DeprecationWarning: In future, it will be an error for 'np.bool_' scalars to be interpreted as an index\n",
      "  print((i,j), set(stk), maxv, str(maxp)*(maxp<1), (stk==0).sum()/stk.shape[0] if 0 in stk else '')\n"
     ]
    }
   ],
   "source": [
    "# this string is used with the add function above\n",
    "# the setup is very jank but it works\n",
    "\n",
    "# the characters are divided into group of 3 using python magic in gcond\n",
    "conds = '122423'\n",
    "gcond = map(add,zip(*[iter(conds)]*3))\n",
    "# each of the vectors returned by add for each of the conditions are ANDed together \n",
    "log_and = reduce(lambda a,b: a & b, gcond, np.ones((sols.shape[0]),dtype=bool))\n",
    "# the places in log_and that are True correspond to boards that satisfy all of the conditions in conds\n",
    "# filter the rest of the boards out\n",
    "sols2 = sols[log_and]\n",
    "print(sols2.shape)\n",
    "\n",
    "# the way you, as the user, use this is:\n",
    "#     each time you click a square at position (i,j) and see value k\n",
    "#     add 'ijk' to the end of conds and rerun the cell\n",
    "# you prob only need to add conditions where there was a < 1 prob of the square being that value\n",
    "#     since it is then able to eliminate some of the boards in consideration\n",
    "  \n",
    "# for each position in the board\n",
    "for i in range(5):\n",
    "    for j in range(5):\n",
    "        # these track the value that has the highest probability so far and what that probability is\n",
    "        maxp = 0\n",
    "        maxv = 0\n",
    "\n",
    "        # get all of the values that can be in the current position\n",
    "        stk = sols2[:,i,j]\n",
    "        \n",
    "        # for each unique value\n",
    "        for v in set(stk):\n",
    "            # find the probability that a random valid board has that value in the current position\n",
    "            p = (stk == v).sum() / stk.shape[0]\n",
    "            \n",
    "            # update the max variables\n",
    "            if p >= maxp:\n",
    "                maxp = p\n",
    "                maxv = v\n",
    "                \n",
    "        # since we only care about finding 2s and 3s, we display only positions where either\n",
    "        #     1. either 2 or 3 has the highest probability\n",
    "        #     2. a voltorb cannot be in that position so it's safe to click\n",
    "        if maxv > 1 or 0 not in stk:\n",
    "            # the printed values are:\n",
    "            # position, possible values, value with highest prob, the prob of that value if its < 1, the prob of 0\n",
    "            # i print the last value to break ties where 2 positions have the same probability of being 2 or 3,\n",
    "            #     but one has a lower prob of 0, making it safer to click\n",
    "            print((i,j), set(stk), maxv, str(maxp)*(maxp<1), (stk==0).sum()/stk.shape[0] if 0 in stk else '')\n",
    "\n",
    "    print()"
   ]
  },
  {
   "cell_type": "code",
   "execution_count": 46,
   "id": "20621b70",
   "metadata": {
    "scrolled": true
   },
   "outputs": [
    {
     "name": "stdout",
     "output_type": "stream",
     "text": [
      " "
     ]
    }
   ],
   "source": [
    "# idk what this is \n",
    "%%prun\n",
    "gpl = getPossLines   \n",
    "for z in range(6):\n",
    "    t = 4*(5-z)\n",
    "    for i in range(5-z, 3*(5-z)+1):\n",
    "        for a in gpl(i,z):\n",
    "            assert ((4-b)%4 for b in a) in gpl(t-i, z)"
   ]
  },
  {
   "cell_type": "code",
   "execution_count": 48,
   "id": "b99844db",
   "metadata": {
    "scrolled": false
   },
   "outputs": [
    {
     "name": "stdout",
     "output_type": "stream",
     "text": [
      "('0', '0', '2') ('0', '1', '0')\n",
      "(0, 5, 5)\n"
     ]
    }
   ],
   "source": [
    "# this is for testing\n",
    "conds = '002010'\n",
    "print(*zip(*[iter(conds)]*3))\n",
    "gcond = [*map(add,zip(*[iter(conds)]*3))]\n",
    "# print(gcond)\n",
    "log_and = reduce(lambda a,b: a & b, gcond, np.ones((sols.shape[0]), dtype=bool))\n",
    "# print(log_and)\n",
    "sols2 = sols[log_and]\n",
    "print(sols2.shape)"
   ]
  },
  {
   "cell_type": "code",
   "execution_count": null,
   "id": "fca4d1c0",
   "metadata": {},
   "outputs": [],
   "source": []
  }
 ],
 "metadata": {
  "kernelspec": {
   "display_name": "Python 3 (ipykernel)",
   "language": "python",
   "name": "python3"
  },
  "language_info": {
   "codemirror_mode": {
    "name": "ipython",
    "version": 3
   },
   "file_extension": ".py",
   "mimetype": "text/x-python",
   "name": "python",
   "nbconvert_exporter": "python",
   "pygments_lexer": "ipython3",
   "version": "3.11.5"
  }
 },
 "nbformat": 4,
 "nbformat_minor": 5
}
